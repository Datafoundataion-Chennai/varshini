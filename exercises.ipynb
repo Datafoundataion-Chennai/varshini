{
 "cells": [
  {
   "cell_type": "markdown",
   "id": "ce7e88ab",
   "metadata": {},
   "source": [
    "Exception Handling"
   ]
  },
  {
   "cell_type": "code",
   "execution_count": 1,
   "id": "f39c8502",
   "metadata": {},
   "outputs": [
    {
     "name": "stdout",
     "output_type": "stream",
     "text": [
      "Error: Division by zero\n",
      "Error: Invalid input type\n",
      "Error: Unsupported operator\n"
     ]
    }
   ],
   "source": [
    "def calculator(a, b, operator):\n",
    "    \"\"\"\n",
    "    Performs a calculation based on the given operator.\n",
    "    \n",
    "    :param a: First number (int/float)\n",
    "    :param b: Second number (int/float)\n",
    "    :param operator: String representing an operation (+, -, *, /, %, **)\n",
    "    :return: Computed result or error message\n",
    "    \"\"\"\n",
    "    try:\n",
    "        # TODO: Implement operation handling and raise exceptions for invalid cases\n",
    "        if operator==\"+\":\n",
    "            return a+b\n",
    "        elif operator==\"-\":\n",
    "            return a-b\n",
    "        elif operator==\"*\":\n",
    "            return a*b\n",
    "        elif operator==\"/\":\n",
    "            return a/b\n",
    "        else:\n",
    "            raise exception\n",
    "    except ZeroDivisionError:\n",
    "        return \"Error: Division by zero\"  # TODO: Handle division by zero\n",
    "    except ValueError:\n",
    "        return \"Error: wrong value entered\" # TODO: Handle invalid numbers\n",
    "    except TypeError:\n",
    "        return \"Error: Invalid input type\" # TODO: Handle non-numeric input\n",
    "    except Exception as e:\n",
    "        return \"Error: Unsupported operator\" # TODO: Handle any unexpected exceptions\n",
    "\n",
    "# Example Usage:\n",
    "print(calculator(10, 0, \"/\"))  # Should return: \"Error: Division by zero\"\n",
    "print(calculator(10, \"five\", \"+\"))  # Should return: \"Error: Invalid input type\"\n",
    "print(calculator(10, 5, \"$\"))  # Should return: \"Error: Unsupported operator\"\n"
   ]
  },
  {
   "cell_type": "code",
   "execution_count": 2,
   "id": "6a5df53f",
   "metadata": {},
   "outputs": [
    {
     "name": "stdout",
     "output_type": "stream",
     "text": [
      "Handle insufficient funds\n",
      "Handle negative withdrawal amounts\n"
     ]
    }
   ],
   "source": [
    "class InsufficientFundsError(Exception):\n",
    "    \"\"\"Custom exception for insufficient balance\"\"\"\n",
    "    \n",
    "\n",
    "class BankAccount:\n",
    "    def __init__(self, balance):\n",
    "        self.balance = balance\n",
    "\n",
    "    def withdraw(self, amount):\n",
    "        \"\"\"\n",
    "        Withdraws money from the account.\n",
    "        \n",
    "        :param amount: Amount to withdraw\n",
    "        :return: Remaining balance or error message\n",
    "        \"\"\"\n",
    "        try:\n",
    "            # TODO: Implement withdrawal logic\n",
    "            \n",
    "            if amount < 0:\n",
    "                raise ValueError(\"Withdrawal amount cannot be negative.\")\n",
    "            if amount > self.balance:\n",
    "                raise InsufficientFundsError(\"Insufficient funds for withdrawal.\")\n",
    "            \n",
    "            self.balance -= amount \n",
    "        except ValueError:\n",
    "            return \"Handle negative withdrawal amounts\"  # TODO: Handle negative withdrawal amounts\n",
    "        except InsufficientFundsError:\n",
    "            return \"Handle insufficient funds\"# TODO: Handle insufficient funds\n",
    "        except Exception as e:\n",
    "            return \"Handle unexpected error\"  # TODO: Handle unexpected errors\n",
    "\n",
    "# Example Usage:\n",
    "account = BankAccount(100)\n",
    "print(account.withdraw(150))  # Should raise InsufficientFundsError\n",
    "print(account.withdraw(-10))  # Should raise ValueError"
   ]
  },
  {
   "cell_type": "code",
   "execution_count": 3,
   "id": "4594359e",
   "metadata": {},
   "outputs": [
    {
     "name": "stdout",
     "output_type": "stream",
     "text": [
      "Handle division by zero\n",
      "Handle invalid conversions\n",
      "Handle out-of-bounds index\n"
     ]
    }
   ],
   "source": [
    "def process_data(data, index):\n",
    "    \"\"\"\n",
    "    Processes data with error handling.\n",
    "    \n",
    "    :param data: List of numbers (strings that should be converted to int)\n",
    "    :param index: Index to divide with\n",
    "    :return: Processed result or error message\n",
    "    \"\"\"\n",
    "    \n",
    "    \n",
    "    try:\n",
    "        # TODO: Convert elements to integers\n",
    "        # TODO: Perform division\n",
    "        \n",
    "        x=list(map(int,data))\n",
    "        if len(x)<index:\n",
    "            raise IndexError\n",
    "        result=x[0]/x[2]\n",
    "        return result\n",
    "        \n",
    "         \n",
    "    except ZeroDivisionError:\n",
    "        return \"Handle division by zero\" # TODO: Handle division by zero\n",
    "    except ValueError:\n",
    "        return \"Handle invalid conversions\"  # TODO: Handle invalid conversions\n",
    "    except IndexError:\n",
    "        return  \"Handle out-of-bounds index\"# TODO: Handle out-of-bounds index\n",
    "    except Exception as e:\n",
    "        return  \"Handle unexpected errors\" # TODO: Handle unexpected errors\n",
    "\n",
    "# Example Usage:\n",
    "data_list = [\"10\", \"20\", \"0\", \"40\"]\n",
    "print(process_data(data_list, 2))  # Should handle division by zero\n",
    "print(process_data([\"10\", \"abc\", \"30\"], 1))  # Should handle ValueError\n",
    "print(process_data([10, 20], 5))  # Should handle IndexError"
   ]
  },
  {
   "cell_type": "markdown",
   "id": "87a59bba",
   "metadata": {},
   "source": [
    "Regular Expression"
   ]
  },
  {
   "cell_type": "code",
   "execution_count": 5,
   "id": "4842ea88",
   "metadata": {},
   "outputs": [
    {
     "name": "stdout",
     "output_type": "stream",
     "text": [
      "[' support@example.com', ' john.doe123@company.org', ' jane_doe@domain.co.uk.']\n"
     ]
    }
   ],
   "source": [
    "import re\n",
    "text = \"Contact us at support@example.com, john.doe123@company.org, or invalid-email@com. Also, try jane_doe@domain.co.uk.\"\n",
    "pattern=re.findall(r\" [a-zA-Z0-9._]+@+[a-zA-Z0-9.]*\",text)\n",
    "print(pattern)"
   ]
  },
  {
   "cell_type": "code",
   "execution_count": 6,
   "id": "ff91786d",
   "metadata": {},
   "outputs": [
    {
     "name": "stdout",
     "output_type": "stream",
     "text": [
      "['#Python', '#coding', '#100DaysOfCode', '#Regex_Challenge']\n"
     ]
    }
   ],
   "source": [
    "tweet = \"Learning #Python is fun! #coding #100DaysOfCode #Regex_Challenge\"\n",
    "pattern=re.findall(r\"#[a-zA-Z0-9._]*\",tweet)\n",
    "print(pattern)"
   ]
  },
  {
   "cell_type": "code",
   "execution_count": 7,
   "id": "0e02c614",
   "metadata": {},
   "outputs": [
    {
     "name": "stdout",
     "output_type": "stream",
     "text": [
      "WeakPass -> Invalid\n",
      "Str0ng@Pass -> Valid\n",
      "NoSpecial1 -> Invalid\n",
      "short!1 -> Invalid\n",
      "Secure#123 -> Invalid\n"
     ]
    }
   ],
   "source": [
    "passwords = [\"WeakPass\", \"Str0ng@Pass\", \"NoSpecial1\", \"short!1\", \"Secure#123\"]\n",
    "for password in passwords:\n",
    "    if (len(password) >= 8 and re.search(r\"[A-Z]\", password) and re.search(r\"[a-z]\", password) and \n",
    "        re.search(r\"\\d\", password) and re.search(r\"[@$!%*?&]\", password)):\n",
    "        print(f\"{password} -> Valid\")\n",
    "    else:\n",
    "        print(f\"{password} -> Invalid\")"
   ]
  },
  {
   "cell_type": "markdown",
   "id": "f19197e8",
   "metadata": {},
   "source": [
    "Numpy"
   ]
  },
  {
   "cell_type": "code",
   "execution_count": 10,
   "id": "169c0295",
   "metadata": {},
   "outputs": [
    {
     "name": "stdout",
     "output_type": "stream",
     "text": [
      "[[332 456 226 133 154]\n",
      " [131 412 156 159 142]\n",
      " [320 280 120 178 491]\n",
      " [408 139 206 441 326]\n",
      " [110 494 253 156 272]\n",
      " [330 328 322 162 457]\n",
      " [387 241 202 212 391]\n",
      " [344 336 375 421 282]\n",
      " [251 372 437 234 359]\n",
      " [321 280 108 291 231]\n",
      " [227 373 310 386 193]\n",
      " [442 484 484 482 494]\n",
      " [165 423 427 362 235]\n",
      " [205 157 306 395 227]\n",
      " [359 455 487 236 132]\n",
      " [416 310 422 165 464]\n",
      " [227 323 307 362 123]\n",
      " [413 284 491 237 248]\n",
      " [172 428 221 196 153]\n",
      " [446 446 251 222 366]\n",
      " [125 167 421 333 195]\n",
      " [129 288 154 297 188]\n",
      " [112 338 207 364 371]\n",
      " [432 475 368 382 224]\n",
      " [176 413 105 156 472]\n",
      " [479 119 405 270 361]\n",
      " [487 257 358 465 145]\n",
      " [119 318 457 429 243]\n",
      " [262 135 163 229 199]\n",
      " [462 315 103 171 167]]\n"
     ]
    }
   ],
   "source": [
    "#1\n",
    "import numpy as np\n",
    "arr_a=np.random.randint(100,501,(30,5))\n",
    "print(arr_a)\n"
   ]
  },
  {
   "cell_type": "code",
   "execution_count": 11,
   "id": "7abf4784",
   "metadata": {},
   "outputs": [
    {
     "name": "stdout",
     "output_type": "stream",
     "text": [
      "Average stock prices:  [292.96666667 328.2        295.06666667 284.2        276.83333333]\n"
     ]
    }
   ],
   "source": [
    "x=np.average(arr_a,axis=0)\n",
    "print(\"Average stock prices: \",x)"
   ]
  },
  {
   "cell_type": "code",
   "execution_count": 12,
   "id": "f6f71877",
   "metadata": {},
   "outputs": [
    {
     "name": "stdout",
     "output_type": "stream",
     "text": [
      "Highest price recorded:  [487 494 491 482 494]\n",
      "4 1\n",
      "Highest price recorded:  494 at Day 4 Company 1\n"
     ]
    }
   ],
   "source": [
    "y=np.max(arr_a,axis=0)\n",
    "\n",
    "print(\"Highest price recorded: \",y)\n",
    "max_price=max(y)\n",
    "\n",
    "max_day,max_company=np.unravel_index(np.argmax(arr_a),arr_a.shape)\n",
    "print(max_day,max_company)\n",
    "\n",
    "print(\"Highest price recorded: \",max_price,\"at Day\",max_day, \"Company\" ,max_company)"
   ]
  },
  {
   "cell_type": "code",
   "execution_count": 13,
   "id": "21e08694",
   "metadata": {},
   "outputs": [
    {
     "name": "stdout",
     "output_type": "stream",
     "text": [
      "[[0.58567775 0.9028133  0.31457801 0.07672634 0.13043478]\n",
      " [0.07161125 0.79028133 0.13554987 0.14322251 0.09974425]\n",
      " [0.55498721 0.45268542 0.04347826 0.19181586 0.99232737]\n",
      " [0.78005115 0.09207161 0.26342711 0.86445013 0.57033248]\n",
      " [0.01790281 1.         0.38363171 0.13554987 0.43222506]\n",
      " [0.58056266 0.57544757 0.5601023  0.15089514 0.90537084]\n",
      " [0.72634271 0.35294118 0.25319693 0.27877238 0.73657289]\n",
      " [0.61636829 0.59590793 0.69565217 0.81329923 0.45780051]\n",
      " [0.37851662 0.68797954 0.85421995 0.33503836 0.65473146]\n",
      " [0.55754476 0.45268542 0.01278772 0.48081841 0.32736573]\n",
      " [0.31713555 0.69053708 0.52941176 0.72378517 0.23017903]\n",
      " [0.86700767 0.97442455 0.97442455 0.96930946 1.        ]\n",
      " [0.15856777 0.81841432 0.8286445  0.66240409 0.33759591]\n",
      " [0.26086957 0.13810742 0.51918159 0.74680307 0.31713555]\n",
      " [0.65473146 0.90025575 0.98209719 0.34015345 0.0741688 ]\n",
      " [0.80051151 0.52941176 0.81585678 0.15856777 0.92327366]\n",
      " [0.31713555 0.56265985 0.52173913 0.66240409 0.0511509 ]\n",
      " [0.79283887 0.4629156  0.99232737 0.342711   0.37084399]\n",
      " [0.17647059 0.83120205 0.30179028 0.23785166 0.12787724]\n",
      " [0.87723785 0.87723785 0.37851662 0.30434783 0.67263427]\n",
      " [0.05626598 0.16368286 0.81329923 0.58823529 0.23529412]\n",
      " [0.06649616 0.47314578 0.13043478 0.49616368 0.2173913 ]\n",
      " [0.0230179  0.60102302 0.26598465 0.66751918 0.68542199]\n",
      " [0.84143223 0.95140665 0.67774936 0.71355499 0.30946292]\n",
      " [0.18670077 0.79283887 0.00511509 0.13554987 0.94373402]\n",
      " [0.96163683 0.04092072 0.77237852 0.42710997 0.65984655]\n",
      " [0.98209719 0.39386189 0.65217391 0.9258312  0.10741688]\n",
      " [0.04092072 0.54987212 0.90537084 0.83375959 0.35805627]\n",
      " [0.40664962 0.08184143 0.15345269 0.32225064 0.2455243 ]\n",
      " [0.91815857 0.54219949 0.         0.17391304 0.16368286]]\n"
     ]
    }
   ],
   "source": [
    "# Step 4: Normalize stock prices between 0 and 1\n",
    "import numpy as np\n",
    "min_price = np.min(arr_a)\n",
    "#print(min_price)\n",
    "normalized_prices = (arr_a - min_price) / (max_price - min_price)\n",
    "#print(arr_a)\n",
    "print(normalized_prices)"
   ]
  },
  {
   "cell_type": "code",
   "execution_count": 14,
   "id": "f3f2e316",
   "metadata": {},
   "outputs": [
    {
     "name": "stdout",
     "output_type": "stream",
     "text": [
      "Day 1: [133, 154]\n",
      "Day 2: [131, 156, 159, 142]\n",
      "Day 3: [120, 178]\n",
      "Day 4: [139]\n",
      "Day 5: [110, 156]\n",
      "Day 6: [162]\n",
      "Day 10: [108]\n",
      "Day 11: [193]\n",
      "Day 13: [165]\n",
      "Day 14: [157]\n",
      "Day 15: [132]\n",
      "Day 16: [165]\n",
      "Day 17: [123]\n",
      "Day 19: [172, 196, 153]\n",
      "Day 21: [125, 167, 195]\n",
      "Day 22: [129, 154, 188]\n",
      "Day 23: [112]\n",
      "Day 25: [176, 105, 156]\n",
      "Day 26: [119]\n",
      "Day 27: [145]\n",
      "Day 28: [119]\n",
      "Day 29: [135, 163, 199]\n",
      "Day 30: [103, 171, 167]\n"
     ]
    }
   ],
   "source": [
    "risky_days = np.where(arr_a < 200)\n",
    "risky_day_indices = np.unique(risky_days[0])\n",
    "for day in risky_day_indices:\n",
    "    risky_values = []\n",
    "    for value in arr_a[day]:\n",
    "        if value < 200:\n",
    "            risky_values.append(value)\n",
    "    print(f\"Day {day + 1}: {risky_values}\")"
   ]
  },
  {
   "cell_type": "code",
   "execution_count": 15,
   "id": "75dab58a",
   "metadata": {},
   "outputs": [
    {
     "name": "stdout",
     "output_type": "stream",
     "text": [
      "[128 252 206]\n",
      "Total resources needed (tons): Oxygen: 128, Water: 252, Food: 206\n"
     ]
    }
   ],
   "source": [
    "#2\n",
    "resources=np.array([\n",
    "    [15, 40, 32],\n",
    "    [20, 42, 35],\n",
    "    [25, 38, 30],\n",
    "    [18, 50, 40],\n",
    "    [22, 37, 36],\n",
    "    [28, 45, 33]\n",
    " \n",
    "])\n",
    "x=np.sum(resources,axis=0)\n",
    "print(x)\n",
    "print(f\"Total resources needed (tons): Oxygen: {x[0]}, Water: {x[1]}, Food: {x[2]}\")\n"
   ]
  },
  {
   "cell_type": "code",
   "execution_count": 16,
   "id": "b2a209ff",
   "metadata": {},
   "outputs": [
    {
     "name": "stdout",
     "output_type": "stream",
     "text": [
      "Highest consumption in a month: Water (50 tons in month 4)\n"
     ]
    }
   ],
   "source": [
    "import numpy as np\n",
    "max_value = np.max(resources, axis=0)\n",
    "max_month = np.argmax(resources, axis=0)\n",
    "resource_names = [\"Oxygen\", \"Water\", \"Food\"]\n",
    "highest_index = np.argmax(max_value)\n",
    "highest_consumption = (resource_names[highest_index], max_value[highest_index], max_month[highest_index])\n",
    "print(f\"Highest consumption in a month: {highest_consumption[0]} ({highest_consumption[1]} tons in month {highest_consumption[2] + 1})\")"
   ]
  },
  {
   "cell_type": "code",
   "execution_count": 17,
   "id": "cd31aeab",
   "metadata": {},
   "outputs": [
    {
     "name": "stdout",
     "output_type": "stream",
     "text": [
      "Standard deviation of consumption: Oxygen: 4.3, Water: 4.4, Food: 3.2\n"
     ]
    }
   ],
   "source": [
    "#standard deviation\n",
    "std_dev = np.std(resources, axis=0)\n",
    "print(f\"Standard deviation of consumption: Oxygen: {std_dev[0]:.1f}, Water: {std_dev[1]:.1f}, Food: {std_dev[2]:.1f}\")\n"
   ]
  },
  {
   "cell_type": "code",
   "execution_count": 18,
   "id": "e0455831",
   "metadata": {},
   "outputs": [
    {
     "name": "stdout",
     "output_type": "stream",
     "text": [
      "Transposed matrix: \n",
      "[[15 20 25 18 22 28]\n",
      " [40 42 38 50 37 45]\n",
      " [32 35 30 40 36 33]]\n"
     ]
    }
   ],
   "source": [
    "print(\"Transposed matrix: \")\n",
    "print(resources.T)"
   ]
  },
  {
   "cell_type": "code",
   "execution_count": 19,
   "id": "f49a57b8",
   "metadata": {},
   "outputs": [
    {
     "name": "stdout",
     "output_type": "stream",
     "text": [
      "Average points per game: [22.8 22.  32.2 18.1 30.1]\n"
     ]
    }
   ],
   "source": [
    "#3\n",
    "points = np.array([\n",
    "    [10, 25, 30, 22, 12, 18, 26, 32, 24, 29],\n",
    "    [20, 15, 12, 28, 24, 26, 30, 18, 22, 25],\n",
    "    [35, 30, 32, 40, 28, 34, 29, 31, 26, 37],\n",
    "    [12, 18, 20, 15, 22, 14, 19, 21, 23, 17],\n",
    "    [28, 26, 27, 25, 30, 29, 35, 32, 31, 38]\n",
    "])\n",
    "avg_points = np.mean(points, axis=1)\n",
    "print(\"Average points per game:\", avg_points)"
   ]
  },
  {
   "cell_type": "code",
   "execution_count": 20,
   "id": "2ae2a716",
   "metadata": {},
   "outputs": [
    {
     "name": "stdout",
     "output_type": "stream",
     "text": [
      "Best-performing player: Player 3 (Total: 322 points)\n",
      "Worst-performing player: Player 4 (Total: 181 points)\n"
     ]
    }
   ],
   "source": [
    "total_points = np.sum(points, axis=1)\n",
    "best_player = np.argmax(total_points)\n",
    "worst_player = np.argmin(total_points)\n",
    "print(f\"Best-performing player: Player {best_player + 1} (Total: {total_points[best_player]} points)\")\n",
    "print(f\"Worst-performing player: Player {worst_player + 1} (Total: {total_points[worst_player]} points)\")\n"
   ]
  },
  {
   "cell_type": "code",
   "execution_count": 22,
   "id": "337090c4",
   "metadata": {},
   "outputs": [
    {
     "name": "stdout",
     "output_type": "stream",
     "text": [
      "Player 1: Games [8]\n",
      "Player 3: Games [1, 3, 4, 6, 8, 10]\n",
      "Player 5: Games [7, 8, 9, 10]\n"
     ]
    }
   ],
   "source": [
    "exceptional_games = points > 30\n",
    "player_indices = np.arange(1, points.shape[0] + 1)\n",
    "for i in player_indices:\n",
    "    game_indices = np.where(exceptional_games[i - 1])[0] + 1 \n",
    "    if game_indices.size > 0:\n",
    "        print(f\"Player {i}: Games {list(game_indices)}\")\n"
   ]
  },
  {
   "cell_type": "code",
   "execution_count": 23,
   "id": "8c65594d",
   "metadata": {},
   "outputs": [
    {
     "name": "stdout",
     "output_type": "stream",
     "text": [
      "\n",
      "Sorted Players by Total Points:\n",
      "1. Player 3 - 322 points\n",
      "2. Player 5 - 301 points\n",
      "3. Player 1 - 228 points\n",
      "4. Player 2 - 220 points\n",
      "5. Player 4 - 181 points\n"
     ]
    }
   ],
   "source": [
    "sorted_indices = np.argsort(total_points)[::-1]  \n",
    "rankings = np.arange(1, len(sorted_indices) + 1)\n",
    "sorted_players = np.column_stack((rankings, sorted_indices + 1, total_points[sorted_indices])) \n",
    "\n",
    "print(\"\\nSorted Players by Total Points:\")\n",
    "for rank, player, points in sorted_players:\n",
    "    print(f\"{int(rank)}. Player {int(player)} - {int(points)} points\")\n"
   ]
  },
  {
   "cell_type": "markdown",
   "id": "c5421ffc",
   "metadata": {},
   "source": [
    "pandas"
   ]
  },
  {
   "cell_type": "code",
   "execution_count": 24,
   "id": "278cc5c1",
   "metadata": {},
   "outputs": [
    {
     "name": "stderr",
     "output_type": "stream",
     "text": [
      "2025-03-06 23:11:40,174 - INFO - NumExpr defaulting to 8 threads.\n"
     ]
    },
    {
     "name": "stdout",
     "output_type": "stream",
     "text": [
      "  Employee Department  Age  Salary  Experience\n",
      "0    Alice         HR   25   50000           2\n",
      "1      Bob         IT   32   70000           7\n",
      "2  Charlie         IT   29   65000           5\n",
      "3    David         HR   41   80000          15\n",
      "4     Emma    Finance   37   75000          10\n",
      "5    Frank    Finance   45   90000          20\n",
      "6    Grace         IT   26   62000           3\n",
      "7   Hannah         HR   38   85000          12\n"
     ]
    }
   ],
   "source": [
    "import pandas as pd\n",
    "\n",
    "data = {\n",
    "    'Employee': ['Alice', 'Bob', 'Charlie', 'David', 'Emma', 'Frank', 'Grace', 'Hannah'],\n",
    "    'Department': ['HR', 'IT', 'IT', 'HR', 'Finance', 'Finance', 'IT', 'HR'],\n",
    "    'Age': [25, 32, 29, 41, 37, 45, 26, 38],\n",
    "    'Salary': [50000, 70000, 65000, 80000, 75000, 90000, 62000, 85000],\n",
    "    'Experience': [2, 7, 5, 15, 10, 20, 3, 12]\n",
    "}\n",
    "\n",
    "df = pd.DataFrame(data)\n",
    "print(df)"
   ]
  },
  {
   "cell_type": "code",
   "execution_count": 25,
   "id": "7ec72592",
   "metadata": {},
   "outputs": [
    {
     "name": "stdout",
     "output_type": "stream",
     "text": [
      "Average Salary by Department:\n",
      " Department\n",
      "Finance    82500.000000\n",
      "HR         71666.666667\n",
      "IT         65666.666667\n",
      "Name: Salary, dtype: float64\n"
     ]
    }
   ],
   "source": [
    "avg_salary = df.groupby('Department')['Salary'].mean()\n",
    "print(\"Average Salary by Department:\\n\", avg_salary)\n"
   ]
  },
  {
   "cell_type": "code",
   "execution_count": 30,
   "id": "1252f5ef",
   "metadata": {},
   "outputs": [
    {
     "name": "stdout",
     "output_type": "stream",
     "text": [
      "Highest Paid Employee per Department:\n",
      "   Department Employee  Salary\n",
      "0         HR   Hannah   85000\n",
      "1         IT      Bob   70000\n",
      "2    Finance    Frank   90000 \n",
      "\n"
     ]
    }
   ],
   "source": [
    "highest_paid = []\n",
    "for dept in df['Department'].unique():\n",
    "    dept_df = df[df['Department'] == dept]\n",
    "    max_salary_row = dept_df[dept_df['Salary'] == dept_df['Salary'].max()].iloc[0]\n",
    "    highest_paid.append([dept, max_salary_row['Employee'], max_salary_row['Salary']])\n",
    "\n",
    "highest_paid_df = pd.DataFrame(highest_paid, columns=['Department', 'Employee', 'Salary'])\n",
    "print(\"Highest Paid Employee per Department:\\n\", highest_paid_df, \"\\n\")\n"
   ]
  },
  {
   "cell_type": "code",
   "execution_count": 31,
   "id": "a7f598f8",
   "metadata": {},
   "outputs": [
    {
     "name": "stdout",
     "output_type": "stream",
     "text": [
      "Employees with >5 years experience and salary >$65,000: 5 \n",
      "\n"
     ]
    }
   ],
   "source": [
    "high_experience_salary = df[(df['Experience'] > 5) & (df['Salary'] > 65000)]\n",
    "count_high_experience_salary = high_experience_salary.shape[0]\n",
    "print(\"Employees with >5 years experience and salary >$65,000:\", count_high_experience_salary, \"\\n\")"
   ]
  },
  {
   "cell_type": "code",
   "execution_count": 32,
   "id": "1879d729",
   "metadata": {},
   "outputs": [
    {
     "name": "stdout",
     "output_type": "stream",
     "text": [
      "DataFrame with Seniority Column:\n",
      "   Employee Department  Age  Salary  Experience  Seniority\n",
      "0    Alice         HR   25   50000           2     Junior\n",
      "1      Bob         IT   32   70000           7  Mid-Level\n",
      "2  Charlie         IT   29   65000           5  Mid-Level\n",
      "3    David         HR   41   80000          15     Senior\n",
      "4     Emma    Finance   37   75000          10  Mid-Level\n",
      "5    Frank    Finance   45   90000          20     Senior\n",
      "6    Grace         IT   26   62000           3     Junior\n",
      "7   Hannah         HR   38   85000          12     Senior \n",
      "\n"
     ]
    }
   ],
   "source": [
    "def categorize_seniority(exp):\n",
    "    if exp < 5:\n",
    "        return \"Junior\"\n",
    "    elif 5 <= exp <= 10:\n",
    "        return \"Mid-Level\"\n",
    "    else:\n",
    "        return \"Senior\"\n",
    "\n",
    "df['Seniority'] = df['Experience'].apply(categorize_seniority)\n",
    "print(\"DataFrame with Seniority Column:\\n\", df, \"\\n\")"
   ]
  },
  {
   "cell_type": "code",
   "execution_count": 33,
   "id": "3ac44590",
   "metadata": {},
   "outputs": [
    {
     "name": "stdout",
     "output_type": "stream",
     "text": [
      "IT Department Employees Sorted by Salary:\n",
      "   Employee Department  Age  Salary  Experience  Seniority\n",
      "1      Bob         IT   32   70000           7  Mid-Level\n",
      "2  Charlie         IT   29   65000           5  Mid-Level\n",
      "6    Grace         IT   26   62000           3     Junior\n"
     ]
    }
   ],
   "source": [
    "it_sorted = df[df['Department'] == 'IT'].sort_values(by='Salary', ascending=False)\n",
    "print(\"IT Department Employees Sorted by Salary:\\n\", it_sorted)"
   ]
  },
  {
   "cell_type": "markdown",
   "id": "56b221cb",
   "metadata": {},
   "source": [
    "Matplotlib"
   ]
  },
  {
   "cell_type": "code",
   "execution_count": 27,
   "id": "edfde9d0",
   "metadata": {},
   "outputs": [
    {
     "name": "stderr",
     "output_type": "stream",
     "text": [
      "2025-03-06 23:25:11,794 - INFO - Using categorical units to plot a list of strings that are all parsable as floats or dates. If these strings should be plotted as numbers, cast to the appropriate data type before plotting.\n",
      "2025-03-06 23:25:11,800 - INFO - Using categorical units to plot a list of strings that are all parsable as floats or dates. If these strings should be plotted as numbers, cast to the appropriate data type before plotting.\n",
      "2025-03-06 23:25:11,812 - INFO - Using categorical units to plot a list of strings that are all parsable as floats or dates. If these strings should be plotted as numbers, cast to the appropriate data type before plotting.\n",
      "2025-03-06 23:25:11,823 - INFO - Using categorical units to plot a list of strings that are all parsable as floats or dates. If these strings should be plotted as numbers, cast to the appropriate data type before plotting.\n",
      "2025-03-06 23:25:11,835 - INFO - Using categorical units to plot a list of strings that are all parsable as floats or dates. If these strings should be plotted as numbers, cast to the appropriate data type before plotting.\n"
     ]
    },
    {
     "data": {
      "image/png": "[encoded data removed]",
      "text/plain": [
       "<Figure size 640x480 with 1 Axes>"
      ]
     },
     "metadata": {},
     "output_type": "display_data"
    }
   ],
   "source": [
    "import matplotlib.pyplot as plt\n",
    "months = [\"Jan\", \"Feb\", \"Mar\", \"Apr\", \"May\", \"Jun\"]\n",
    "rent = [1200, 1200, 1200, 1200, 1250, 1250]\n",
    "food = [400, 420, 450, 480, 500, 520]\n",
    "entertainment = [150, 200, 220, 180, 250, 300]\n",
    "transport = [100, 120, 130, 110, 140, 160]\n",
    "plt.bar(months,rent,label=\"rents\",color=\"green\")\n",
    "plt.bar(months,food,label=\"food\",color=\"blue\")\n",
    "plt.bar(months,entertainment,label=\"entertainment\",color=\"pink\")\n",
    "plt.bar(months,transport,label=\"transport\",color=\"yellow\")\n",
    "plt.xlabel(\"months\")\n",
    "plt.ylabel(\"Expenses\")\n",
    "plt.title(\"Monthly EXpenses Comparison\")\n",
    "plt.legend()\n",
    "plt.show()"
   ]
  },
  {
   "cell_type": "code",
   "execution_count": 28,
   "id": "cf3f4138",
   "metadata": {},
   "outputs": [
    {
     "data": {
      "image/png": "[encoded data removed]",
      "text/plain": [
       "<Figure size 1000x800 with 2 Axes>"
      ]
     },
     "metadata": {},
     "output_type": "display_data"
    }
   ],
   "source": [
    "import numpy as np\n",
    "import matplotlib.pyplot as plt\n",
    "\n",
    "\n",
    "\n",
    "weeks = np.arange(1, 9)  \n",
    "covid_cases = [500, 700, 1200, 2000, 3000, 4500, 6000, 8000]  \n",
    "vaccination_rate = [5, 10, 20, 35, 50, 65, 75, 85]  # In percentage\n",
    "\n",
    "fig,ax=plt.subplots(2,1,figsize=(10,8))\n",
    "\n",
    "\n",
    "ax[0].plot(weeks,covid_cases,marker='x',linestyle='-',color='red',label=\"week_cases\")\n",
    "ax[0].set_xlabel(\"Weeks\")\n",
    "ax[0].set_ylabel(\"covid_cases\")\n",
    "ax[0].set_title(\"weekly COVID-19 cases\")\n",
    "ax[0].legend()\n",
    "ax[0].grid(True)\n",
    "\n",
    "\n",
    "\n",
    "ax[1].bar(weeks,vaccination_rate,color='blue',label=\"vaccination_rate\")\n",
    "ax[1].set_xlabel(\"Weeks\")\n",
    "ax[1].set_ylabel(\"vaccination_rate\")\n",
    "ax[1].set_title(\"vaccination progress (%)\")\n",
    "ax[1].legend()\n",
    "#ax[1].grid(True)\n",
    "ax[1].grid(axis=\"y\",linestyle=\"--\",alpha=0.7)\n",
    "           \n",
    "plt.tight_layout()\n",
    "plt.show()"
   ]
  },
  {
   "cell_type": "markdown",
   "id": "6787a7a5",
   "metadata": {},
   "source": [
    "#collections"
   ]
  },
  {
   "cell_type": "code",
   "execution_count": 29,
   "id": "7352fa7a",
   "metadata": {},
   "outputs": [
    {
     "name": "stdout",
     "output_type": "stream",
     "text": [
      "OrderedDict()\n",
      "OrderedDict([('bread', 8), ('milk', 3), ('cigarettes', 4)])\n"
     ]
    }
   ],
   "source": [
    "from collections import Counter\n",
    "from collections import OrderedDict\n",
    "requests = [\n",
    "    (\"bread\", 5),\n",
    "    (\"milk\", 2),\n",
    "    (\"bread\", 3),\n",
    "    (\"cigarettes\", 4),\n",
    "    (\"milk\", 1)\n",
    "]\n",
    "od=OrderedDict()\n",
    "print(od)\n",
    "for item, quantity in requests:\n",
    "        if item in od:\n",
    "            od[item] += quantity\n",
    "        else:\n",
    "            od[item] = quantity\n",
    "print(od)"
   ]
  },
  {
   "cell_type": "code",
   "execution_count": 1,
   "id": "14f663a7",
   "metadata": {},
   "outputs": [
    {
     "name": "stdout",
     "output_type": "stream",
     "text": [
      "defaultdict(<function <lambda> at 0x000001BF948F6670>, {'aacktt': 'attack', 'aeerrtt': 'retreat', 'einprs': 'sniper', 'adegnr': 'danger', 'aknst': 'tanks', 'eemny': 'enemy', 'adhosw': 'UNKNOWN'})\n",
      "['attack', 'retreat', 'tanks', 'UNKNOWN']\n"
     ]
    }
   ],
   "source": [
    "from collections import Counter\n",
    "from collections import defaultdict\n",
    "\n",
    "codewords = [\"attack\", \"retreat\", \"sniper\", \"danger\", \"tanks\", \"enemy\"]\n",
    "intercepted = [\"ckatta\", \"ratreet\", \"ksnat\", \"shadow\"]\n",
    "\n",
    "final = defaultdict(lambda: \"UNKNOWN\")\n",
    "\n",
    "\n",
    "for word in codewords:\n",
    "    sorted_word = \"\".join(sorted(word))\n",
    "    final[sorted_word] = word\n",
    "\n",
    "\n",
    "decoded_messages = []\n",
    "for word in intercepted:\n",
    "    sorted_word = \"\".join(sorted(word))\n",
    "    decoded_messages.append(final[sorted_word])\n",
    "\n",
    "\n",
    "\n",
    "print(final)\n",
    "print(decoded_messages)"
   ]
  },
  {
   "cell_type": "code",
   "execution_count": null,
   "id": "84c3e839",
   "metadata": {},
   "outputs": [],
   "source": []
  }
 ],
 "metadata": {
  "kernelspec": {
   "display_name": "Python 3 (ipykernel)",
   "language": "python",
   "name": "python3"
  },
  "language_info": {
   "codemirror_mode": {
    "name": "ipython",
    "version": 3
   },
   "file_extension": ".py",
   "mimetype": "text/x-python",
   "name": "python",
   "nbconvert_exporter": "python",
   "pygments_lexer": "ipython3",
   "version": "3.9.13"
  }
 },
 "nbformat": 4,
 "nbformat_minor": 5
}
